{
 "cells": [
  {
   "cell_type": "markdown",
   "metadata": {},
   "source": [
    "<h2> Capstone project: The Battle of Neighborhoods (week 2) </h2>\n",
    "<h3> Business Prospect and Venues Data Analysis in Bali, Indonesia </h3> by: <b>Nur Cahyo Nugroho </b>"
   ]
  },
  {
   "cell_type": "markdown",
   "metadata": {},
   "source": [
    "<img src=\"https://media.timeout.com/images/105240189/image.jpg\" width=\"500\" height=\"600\">"
   ]
  },
  {
   "cell_type": "markdown",
   "metadata": {},
   "source": [
    "<h3>1. Introduction</h3>\n",
    "<p>Bali is one of main Indonesia's tourism destination, which has seen a significant rise in tourists since the 1980s. Tourism-related business makes up 80% of its economy. It is renowned for its highly developed arts, including traditional and modern dance, sculpture, painting, leather, metalworking, and music. There's so much business opportunity in this island, with potential customer from both local residents and the tourists. </p>\n",
    "<p>Business people will need to perform research and exploration of the neighborhood before open any business in specific location to understand many factors, like nearby residential area, tourist place & office, another similar competitor, public facilities, and most importantly average rental fare.</p>\n",
    "\n",
    "<h3>2. Objective</h3>\n",
    "<p>This project will give insight to business people to comparing neighborhoods based on districts in Bali to choose best suited location based on top 10 common venues surrounding it.</p>\n",
    "<p>Methods:\n",
    "<ul>\n",
    "    <li>Web scraping the list of district/kecamatan in Bali from Wikipedia.</li>\n",
    "    <li>Extracting top trending venues using Foursquare API. </li>\n",
    "    <li>Forming neighborhood clusters based on venue categories using unsupervised <i>k-means</i> clustering algorithm. </li>\n",
    "    <li>Understanding the similarities and differences between district to retrieve more insights and to conclude which neighborhood is best suited for business prospect. </li>\n",
    "</ul></p>\n",
    "\n",
    "<h3>3. Data Reference and Library</h3>\n",
    "<h4>3.1. District list in Bali</h4>\n",
    "I will be extracting list of districts in Bali from Wikipedia page: <a href=\"url\">https://en.wikipedia.org/wiki/Bali</a>. \n",
    "Using read_html() to extract HTML table information from Wikipedia, and Panda libraries to load it into dataframe and perform necessary data clean-up. \n",
    "<h4>3.2. Geolocation of each district in Bali</h4>\n",
    "Geolocation contains longtitude and latitude of each district in Bali from csv file that I will upload in GitHub. Using panda dataframe to load the data and merge it with above district information, then get top venues using Foursquare API using geolocation information.\n",
    "<h4>3.3. Library </h4>\n",
    "<ul>\n",
    "    <li>Panda libraries for dataframe and other dataset manipulation.</li>\n",
    "    <li>Numpy for any scientific computation.</li>\n",
    "    <li>Requests to call Foursquare API.</li>\n",
    "    <li>KMeans cluster from sklearn for clustering.</li>\n",
    "    <li>Matplotlib for plotting modules.</li>\n",
    "    <li>Folium for map plotting.</li>\n",
    "</ul>  \n",
    "\n",
    "<h3>4. Python Notebook</h3>\n",
    "<h4>4.1. Download and extract dataset</h4>"
   ]
  },
  {
   "cell_type": "markdown",
   "metadata": {},
   "source": [
    "Import all necessary libraries:"
   ]
  },
  {
   "cell_type": "code",
   "execution_count": 89,
   "metadata": {},
   "outputs": [
    {
     "name": "stdout",
     "output_type": "stream",
     "text": [
      "Libraries imported\n"
     ]
    }
   ],
   "source": [
    "import pandas as pd\n",
    "import numpy as np\n",
    "import requests\n",
    "\n",
    "# Matplotlib and associated plotting modules\n",
    "import matplotlib as mpl\n",
    "import matplotlib.pyplot as plt\n",
    "import matplotlib.cm as cm\n",
    "import matplotlib.colors as colors\n",
    "# we are using the inline backend\n",
    "%matplotlib inline \n",
    "\n",
    "#!conda install -c anaconda beautifulsoup4 --yes\n",
    "from bs4 import BeautifulSoup\n",
    "\n",
    "#!conda install -c conda-forge geopy --yes \n",
    "#!conda install -c conda-forge folium=0.5.0 --yes\n",
    "\n",
    "import folium # plotting library\n",
    "\n",
    "from pandas.io.json import json_normalize\n",
    "\n",
    "# import k-means from clustering stage\n",
    "from sklearn.cluster import KMeans\n",
    "\n",
    "print('Libraries imported')"
   ]
  },
  {
   "cell_type": "markdown",
   "metadata": {},
   "source": [
    "Read data from Wikipedia and convert it to panda dataframe:"
   ]
  },
  {
   "cell_type": "code",
   "execution_count": 169,
   "metadata": {},
   "outputs": [
    {
     "data": {
      "text/html": [
       "<div>\n",
       "<style scoped>\n",
       "    .dataframe tbody tr th:only-of-type {\n",
       "        vertical-align: middle;\n",
       "    }\n",
       "\n",
       "    .dataframe tbody tr th {\n",
       "        vertical-align: top;\n",
       "    }\n",
       "\n",
       "    .dataframe thead th {\n",
       "        text-align: right;\n",
       "    }\n",
       "</style>\n",
       "<table border=\"1\" class=\"dataframe\">\n",
       "  <thead>\n",
       "    <tr style=\"text-align: right;\">\n",
       "      <th></th>\n",
       "      <th>District</th>\n",
       "      <th>Population</th>\n",
       "    </tr>\n",
       "  </thead>\n",
       "  <tbody>\n",
       "    <tr>\n",
       "      <th>0</th>\n",
       "      <td>Kabupaten Badung</td>\n",
       "      <td>468.346</td>\n",
       "    </tr>\n",
       "    <tr>\n",
       "      <th>1</th>\n",
       "      <td>Kabupaten Bangli</td>\n",
       "      <td>264.945</td>\n",
       "    </tr>\n",
       "    <tr>\n",
       "      <th>2</th>\n",
       "      <td>Kabupaten Buleleng</td>\n",
       "      <td>814.356</td>\n",
       "    </tr>\n",
       "    <tr>\n",
       "      <th>3</th>\n",
       "      <td>Kabupaten Gianyar</td>\n",
       "      <td>492.757</td>\n",
       "    </tr>\n",
       "    <tr>\n",
       "      <th>4</th>\n",
       "      <td>Kabupaten Jembrana</td>\n",
       "      <td>323.211</td>\n",
       "    </tr>\n",
       "    <tr>\n",
       "      <th>5</th>\n",
       "      <td>Kabupaten Karangasem</td>\n",
       "      <td>545.389</td>\n",
       "    </tr>\n",
       "    <tr>\n",
       "      <th>6</th>\n",
       "      <td>Kabupaten Klungkung</td>\n",
       "      <td>215.852</td>\n",
       "    </tr>\n",
       "    <tr>\n",
       "      <th>7</th>\n",
       "      <td>Kabupaten Tabanan</td>\n",
       "      <td>466.647</td>\n",
       "    </tr>\n",
       "    <tr>\n",
       "      <th>8</th>\n",
       "      <td>Kota Denpasar</td>\n",
       "      <td>638.548</td>\n",
       "    </tr>\n",
       "  </tbody>\n",
       "</table>\n",
       "</div>"
      ],
      "text/plain": [
       "               District  Population\n",
       "0      Kabupaten Badung     468.346\n",
       "1      Kabupaten Bangli     264.945\n",
       "2    Kabupaten Buleleng     814.356\n",
       "3     Kabupaten Gianyar     492.757\n",
       "4    Kabupaten Jembrana     323.211\n",
       "5  Kabupaten Karangasem     545.389\n",
       "6   Kabupaten Klungkung     215.852\n",
       "7     Kabupaten Tabanan     466.647\n",
       "8         Kota Denpasar     638.548"
      ]
     },
     "execution_count": 169,
     "metadata": {},
     "output_type": "execute_result"
    }
   ],
   "source": [
    "#Call from webpage url and store them as dataframes in an array, each element is a dataframe\n",
    "wiki_tables = pd.read_html(\"https://id.wikipedia.org/wiki/Daftar_kabupaten_dan_kota_di_Bali\", header=0) \n",
    "\n",
    "#Convert to dataframe\n",
    "bali_raw_df = wiki_tables[0]\n",
    "bali_raw_df.head(10)\n",
    "#Bali_raw_df.dtypes\n",
    "\n",
    "#Create new dataframe, get 'Kabupaten/Kota' and 'Jumlah penduduk (2017)' as 'District' and 'Total Population'\n",
    "bali_df = bali_raw_df[['Kabupaten/kota', 'Jumlah penduduk (2017)[1]']]\n",
    "bali_df.rename(columns={'Kabupaten/kota':'District', 'Jumlah penduduk (2017)[1]':'Population'}, inplace=True)\n",
    "bali_df"
   ]
  },
  {
   "cell_type": "markdown",
   "metadata": {},
   "source": [
    "Convert float 'Population' into int:"
   ]
  },
  {
   "cell_type": "code",
   "execution_count": 171,
   "metadata": {},
   "outputs": [
    {
     "name": "stderr",
     "output_type": "stream",
     "text": [
      "C:\\Users\\nurca\\Anaconda3\\lib\\site-packages\\ipykernel_launcher.py:6: SettingWithCopyWarning: \n",
      "A value is trying to be set on a copy of a slice from a DataFrame.\n",
      "Try using .loc[row_indexer,col_indexer] = value instead\n",
      "\n",
      "See the caveats in the documentation: http://pandas.pydata.org/pandas-docs/stable/indexing.html#indexing-view-versus-copy\n",
      "  \n"
     ]
    }
   ],
   "source": [
    "i=0\n",
    "for pop in bali_df['Population']:\n",
    "    bali_df.iloc[i,1] = int(str(\"{0:.3f}\".format(round(pop,3))).replace('.', ''))\n",
    "    i+=1\n",
    "\n",
    "bali_df['Population'] = bali_df['Population'].astype(int)"
   ]
  },
  {
   "cell_type": "markdown",
   "metadata": {},
   "source": [
    "Dataframe after change datatype:"
   ]
  },
  {
   "cell_type": "code",
   "execution_count": 172,
   "metadata": {},
   "outputs": [
    {
     "data": {
      "text/html": [
       "<div>\n",
       "<style scoped>\n",
       "    .dataframe tbody tr th:only-of-type {\n",
       "        vertical-align: middle;\n",
       "    }\n",
       "\n",
       "    .dataframe tbody tr th {\n",
       "        vertical-align: top;\n",
       "    }\n",
       "\n",
       "    .dataframe thead th {\n",
       "        text-align: right;\n",
       "    }\n",
       "</style>\n",
       "<table border=\"1\" class=\"dataframe\">\n",
       "  <thead>\n",
       "    <tr style=\"text-align: right;\">\n",
       "      <th></th>\n",
       "      <th>District</th>\n",
       "      <th>Population</th>\n",
       "    </tr>\n",
       "  </thead>\n",
       "  <tbody>\n",
       "    <tr>\n",
       "      <th>0</th>\n",
       "      <td>Kabupaten Badung</td>\n",
       "      <td>468346</td>\n",
       "    </tr>\n",
       "    <tr>\n",
       "      <th>1</th>\n",
       "      <td>Kabupaten Bangli</td>\n",
       "      <td>264945</td>\n",
       "    </tr>\n",
       "    <tr>\n",
       "      <th>2</th>\n",
       "      <td>Kabupaten Buleleng</td>\n",
       "      <td>814356</td>\n",
       "    </tr>\n",
       "    <tr>\n",
       "      <th>3</th>\n",
       "      <td>Kabupaten Gianyar</td>\n",
       "      <td>492757</td>\n",
       "    </tr>\n",
       "    <tr>\n",
       "      <th>4</th>\n",
       "      <td>Kabupaten Jembrana</td>\n",
       "      <td>323211</td>\n",
       "    </tr>\n",
       "    <tr>\n",
       "      <th>5</th>\n",
       "      <td>Kabupaten Karangasem</td>\n",
       "      <td>545389</td>\n",
       "    </tr>\n",
       "    <tr>\n",
       "      <th>6</th>\n",
       "      <td>Kabupaten Klungkung</td>\n",
       "      <td>215852</td>\n",
       "    </tr>\n",
       "    <tr>\n",
       "      <th>7</th>\n",
       "      <td>Kabupaten Tabanan</td>\n",
       "      <td>466647</td>\n",
       "    </tr>\n",
       "    <tr>\n",
       "      <th>8</th>\n",
       "      <td>Kota Denpasar</td>\n",
       "      <td>638548</td>\n",
       "    </tr>\n",
       "  </tbody>\n",
       "</table>\n",
       "</div>"
      ],
      "text/plain": [
       "               District  Population\n",
       "0      Kabupaten Badung      468346\n",
       "1      Kabupaten Bangli      264945\n",
       "2    Kabupaten Buleleng      814356\n",
       "3     Kabupaten Gianyar      492757\n",
       "4    Kabupaten Jembrana      323211\n",
       "5  Kabupaten Karangasem      545389\n",
       "6   Kabupaten Klungkung      215852\n",
       "7     Kabupaten Tabanan      466647\n",
       "8         Kota Denpasar      638548"
      ]
     },
     "execution_count": 172,
     "metadata": {},
     "output_type": "execute_result"
    }
   ],
   "source": [
    "bali_df"
   ]
  },
  {
   "cell_type": "markdown",
   "metadata": {},
   "source": [
    "Get geolocation for each distric of Bali from csv file:"
   ]
  },
  {
   "cell_type": "code",
   "execution_count": 173,
   "metadata": {},
   "outputs": [
    {
     "data": {
      "text/html": [
       "<div>\n",
       "<style scoped>\n",
       "    .dataframe tbody tr th:only-of-type {\n",
       "        vertical-align: middle;\n",
       "    }\n",
       "\n",
       "    .dataframe tbody tr th {\n",
       "        vertical-align: top;\n",
       "    }\n",
       "\n",
       "    .dataframe thead th {\n",
       "        text-align: right;\n",
       "    }\n",
       "</style>\n",
       "<table border=\"1\" class=\"dataframe\">\n",
       "  <thead>\n",
       "    <tr style=\"text-align: right;\">\n",
       "      <th></th>\n",
       "      <th>Kabupaten/Kota</th>\n",
       "      <th>Latitude</th>\n",
       "      <th>Longitude</th>\n",
       "    </tr>\n",
       "  </thead>\n",
       "  <tbody>\n",
       "    <tr>\n",
       "      <th>0</th>\n",
       "      <td>Kabupaten Badung</td>\n",
       "      <td>-8.5819</td>\n",
       "      <td>115.1771</td>\n",
       "    </tr>\n",
       "    <tr>\n",
       "      <th>1</th>\n",
       "      <td>Kabupaten Bangli</td>\n",
       "      <td>-8.2976</td>\n",
       "      <td>115.3549</td>\n",
       "    </tr>\n",
       "    <tr>\n",
       "      <th>2</th>\n",
       "      <td>Kabupaten Buleleng</td>\n",
       "      <td>-8.2239</td>\n",
       "      <td>114.9517</td>\n",
       "    </tr>\n",
       "    <tr>\n",
       "      <th>3</th>\n",
       "      <td>Kabupaten Gianyar</td>\n",
       "      <td>-8.4248</td>\n",
       "      <td>115.2601</td>\n",
       "    </tr>\n",
       "    <tr>\n",
       "      <th>4</th>\n",
       "      <td>Kabupaten Jembrana</td>\n",
       "      <td>-8.3233</td>\n",
       "      <td>114.6668</td>\n",
       "    </tr>\n",
       "    <tr>\n",
       "      <th>5</th>\n",
       "      <td>Kabupaten Karangasem</td>\n",
       "      <td>-8.3466</td>\n",
       "      <td>115.5207</td>\n",
       "    </tr>\n",
       "    <tr>\n",
       "      <th>6</th>\n",
       "      <td>Kabupaten Klungkung</td>\n",
       "      <td>-8.7278</td>\n",
       "      <td>115.5444</td>\n",
       "    </tr>\n",
       "  </tbody>\n",
       "</table>\n",
       "</div>"
      ],
      "text/plain": [
       "         Kabupaten/Kota  Latitude  Longitude\n",
       "0      Kabupaten Badung   -8.5819   115.1771\n",
       "1      Kabupaten Bangli   -8.2976   115.3549\n",
       "2    Kabupaten Buleleng   -8.2239   114.9517\n",
       "3     Kabupaten Gianyar   -8.4248   115.2601\n",
       "4    Kabupaten Jembrana   -8.3233   114.6668\n",
       "5  Kabupaten Karangasem   -8.3466   115.5207\n",
       "6   Kabupaten Klungkung   -8.7278   115.5444"
      ]
     },
     "execution_count": 173,
     "metadata": {},
     "output_type": "execute_result"
    }
   ],
   "source": [
    "#read csv data and put it in dataframe\n",
    "geo_df = pd.read_csv('https://raw.githubusercontent.com/bluearticuno/Coursera_Capstone/master/Bali_District_Geospatial.csv')\n",
    "geo_df.head(7)"
   ]
  },
  {
   "cell_type": "markdown",
   "metadata": {},
   "source": [
    "Merge both data:"
   ]
  },
  {
   "cell_type": "code",
   "execution_count": 174,
   "metadata": {},
   "outputs": [
    {
     "data": {
      "text/html": [
       "<div>\n",
       "<style scoped>\n",
       "    .dataframe tbody tr th:only-of-type {\n",
       "        vertical-align: middle;\n",
       "    }\n",
       "\n",
       "    .dataframe tbody tr th {\n",
       "        vertical-align: top;\n",
       "    }\n",
       "\n",
       "    .dataframe thead th {\n",
       "        text-align: right;\n",
       "    }\n",
       "</style>\n",
       "<table border=\"1\" class=\"dataframe\">\n",
       "  <thead>\n",
       "    <tr style=\"text-align: right;\">\n",
       "      <th></th>\n",
       "      <th>District</th>\n",
       "      <th>Population</th>\n",
       "      <th>Latitude</th>\n",
       "      <th>Longitude</th>\n",
       "    </tr>\n",
       "  </thead>\n",
       "  <tbody>\n",
       "    <tr>\n",
       "      <th>0</th>\n",
       "      <td>Kabupaten Badung</td>\n",
       "      <td>468346</td>\n",
       "      <td>-8.5819</td>\n",
       "      <td>115.1771</td>\n",
       "    </tr>\n",
       "    <tr>\n",
       "      <th>1</th>\n",
       "      <td>Kabupaten Bangli</td>\n",
       "      <td>264945</td>\n",
       "      <td>-8.2976</td>\n",
       "      <td>115.3549</td>\n",
       "    </tr>\n",
       "    <tr>\n",
       "      <th>2</th>\n",
       "      <td>Kabupaten Buleleng</td>\n",
       "      <td>814356</td>\n",
       "      <td>-8.2239</td>\n",
       "      <td>114.9517</td>\n",
       "    </tr>\n",
       "    <tr>\n",
       "      <th>3</th>\n",
       "      <td>Kabupaten Gianyar</td>\n",
       "      <td>492757</td>\n",
       "      <td>-8.4248</td>\n",
       "      <td>115.2601</td>\n",
       "    </tr>\n",
       "    <tr>\n",
       "      <th>4</th>\n",
       "      <td>Kabupaten Jembrana</td>\n",
       "      <td>323211</td>\n",
       "      <td>-8.3233</td>\n",
       "      <td>114.6668</td>\n",
       "    </tr>\n",
       "    <tr>\n",
       "      <th>5</th>\n",
       "      <td>Kabupaten Karangasem</td>\n",
       "      <td>545389</td>\n",
       "      <td>-8.3466</td>\n",
       "      <td>115.5207</td>\n",
       "    </tr>\n",
       "    <tr>\n",
       "      <th>6</th>\n",
       "      <td>Kabupaten Klungkung</td>\n",
       "      <td>215852</td>\n",
       "      <td>-8.7278</td>\n",
       "      <td>115.5444</td>\n",
       "    </tr>\n",
       "    <tr>\n",
       "      <th>7</th>\n",
       "      <td>Kabupaten Tabanan</td>\n",
       "      <td>466647</td>\n",
       "      <td>-8.4596</td>\n",
       "      <td>115.0466</td>\n",
       "    </tr>\n",
       "    <tr>\n",
       "      <th>8</th>\n",
       "      <td>Kota Denpasar</td>\n",
       "      <td>638548</td>\n",
       "      <td>-8.6705</td>\n",
       "      <td>115.2126</td>\n",
       "    </tr>\n",
       "  </tbody>\n",
       "</table>\n",
       "</div>"
      ],
      "text/plain": [
       "               District  Population  Latitude  Longitude\n",
       "0      Kabupaten Badung      468346   -8.5819   115.1771\n",
       "1      Kabupaten Bangli      264945   -8.2976   115.3549\n",
       "2    Kabupaten Buleleng      814356   -8.2239   114.9517\n",
       "3     Kabupaten Gianyar      492757   -8.4248   115.2601\n",
       "4    Kabupaten Jembrana      323211   -8.3233   114.6668\n",
       "5  Kabupaten Karangasem      545389   -8.3466   115.5207\n",
       "6   Kabupaten Klungkung      215852   -8.7278   115.5444\n",
       "7     Kabupaten Tabanan      466647   -8.4596   115.0466\n",
       "8         Kota Denpasar      638548   -8.6705   115.2126"
      ]
     },
     "execution_count": 174,
     "metadata": {},
     "output_type": "execute_result"
    }
   ],
   "source": [
    "merged_df = pd.merge(left=bali_df, right=geo_df, left_on='District', right_on='Kabupaten/Kota')\n",
    "merged_df.drop(['Kabupaten/Kota'], axis=1, inplace=True)\n",
    "merged_df"
   ]
  },
  {
   "cell_type": "markdown",
   "metadata": {},
   "source": [
    "Create map of Bali:"
   ]
  },
  {
   "cell_type": "code",
   "execution_count": 175,
   "metadata": {
    "scrolled": true
   },
   "outputs": [
    {
     "data": {
      "text/html": [
       "<div style=\"width:100%;\"><div style=\"position:relative;width:100%;height:0;padding-bottom:60%;\"><iframe src=\"data:text/html;charset=utf-8;base64,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\" style=\"position:absolute;width:100%;height:100%;left:0;top:0;border:none !important;\" allowfullscreen webkitallowfullscreen mozallowfullscreen></iframe></div></div>"
      ],
      "text/plain": [
       "<folium.folium.Map at 0x15dc0f3c7b8>"
      ]
     },
     "execution_count": 175,
     "metadata": {},
     "output_type": "execute_result"
    }
   ],
   "source": [
    "# create map of Bali using latitude and longitude values\n",
    "bali_map = folium.Map(location=[-8.34, 115.09], zoom_start=9)\n",
    "\n",
    "# add markers to map\n",
    "for lat, lng, district in zip(merged_df['Latitude'], merged_df['Longitude'], merged_df['District']):\n",
    "    label = '{}'.format(district)\n",
    "    label = folium.Popup(label, parse_html=True)\n",
    "    folium.CircleMarker(\n",
    "        [lat, lng],\n",
    "        radius=5,\n",
    "        popup=label,\n",
    "        color='blue',\n",
    "        fill=True,\n",
    "        fill_color='yellow',\n",
    "        fill_opacity=0.7,\n",
    "        parse_html=False).add_to(bali_map)  \n",
    "    \n",
    "bali_map"
   ]
  },
  {
   "cell_type": "code",
   "execution_count": 178,
   "metadata": {},
   "outputs": [
    {
     "data": {
      "text/html": [
       "<div>\n",
       "<style scoped>\n",
       "    .dataframe tbody tr th:only-of-type {\n",
       "        vertical-align: middle;\n",
       "    }\n",
       "\n",
       "    .dataframe tbody tr th {\n",
       "        vertical-align: top;\n",
       "    }\n",
       "\n",
       "    .dataframe thead th {\n",
       "        text-align: right;\n",
       "    }\n",
       "</style>\n",
       "<table border=\"1\" class=\"dataframe\">\n",
       "  <thead>\n",
       "    <tr style=\"text-align: right;\">\n",
       "      <th></th>\n",
       "      <th>District</th>\n",
       "      <th>Population</th>\n",
       "      <th>Latitude</th>\n",
       "      <th>Longitude</th>\n",
       "    </tr>\n",
       "  </thead>\n",
       "  <tbody>\n",
       "    <tr>\n",
       "      <th>0</th>\n",
       "      <td>Kabupaten Badung</td>\n",
       "      <td>468346</td>\n",
       "      <td>-8.5819</td>\n",
       "      <td>115.1771</td>\n",
       "    </tr>\n",
       "    <tr>\n",
       "      <th>1</th>\n",
       "      <td>Kabupaten Bangli</td>\n",
       "      <td>264945</td>\n",
       "      <td>-8.2976</td>\n",
       "      <td>115.3549</td>\n",
       "    </tr>\n",
       "    <tr>\n",
       "      <th>2</th>\n",
       "      <td>Kabupaten Buleleng</td>\n",
       "      <td>814356</td>\n",
       "      <td>-8.2239</td>\n",
       "      <td>114.9517</td>\n",
       "    </tr>\n",
       "    <tr>\n",
       "      <th>3</th>\n",
       "      <td>Kabupaten Gianyar</td>\n",
       "      <td>492757</td>\n",
       "      <td>-8.4248</td>\n",
       "      <td>115.2601</td>\n",
       "    </tr>\n",
       "    <tr>\n",
       "      <th>4</th>\n",
       "      <td>Kabupaten Jembrana</td>\n",
       "      <td>323211</td>\n",
       "      <td>-8.3233</td>\n",
       "      <td>114.6668</td>\n",
       "    </tr>\n",
       "    <tr>\n",
       "      <th>5</th>\n",
       "      <td>Kabupaten Karangasem</td>\n",
       "      <td>545389</td>\n",
       "      <td>-8.3466</td>\n",
       "      <td>115.5207</td>\n",
       "    </tr>\n",
       "    <tr>\n",
       "      <th>6</th>\n",
       "      <td>Kabupaten Klungkung</td>\n",
       "      <td>215852</td>\n",
       "      <td>-8.7278</td>\n",
       "      <td>115.5444</td>\n",
       "    </tr>\n",
       "    <tr>\n",
       "      <th>7</th>\n",
       "      <td>Kabupaten Tabanan</td>\n",
       "      <td>466647</td>\n",
       "      <td>-8.4596</td>\n",
       "      <td>115.0466</td>\n",
       "    </tr>\n",
       "    <tr>\n",
       "      <th>8</th>\n",
       "      <td>Kota Denpasar</td>\n",
       "      <td>638548</td>\n",
       "      <td>-8.6705</td>\n",
       "      <td>115.2126</td>\n",
       "    </tr>\n",
       "  </tbody>\n",
       "</table>\n",
       "</div>"
      ],
      "text/plain": [
       "               District  Population  Latitude  Longitude\n",
       "0      Kabupaten Badung      468346   -8.5819   115.1771\n",
       "1      Kabupaten Bangli      264945   -8.2976   115.3549\n",
       "2    Kabupaten Buleleng      814356   -8.2239   114.9517\n",
       "3     Kabupaten Gianyar      492757   -8.4248   115.2601\n",
       "4    Kabupaten Jembrana      323211   -8.3233   114.6668\n",
       "5  Kabupaten Karangasem      545389   -8.3466   115.5207\n",
       "6   Kabupaten Klungkung      215852   -8.7278   115.5444\n",
       "7     Kabupaten Tabanan      466647   -8.4596   115.0466\n",
       "8         Kota Denpasar      638548   -8.6705   115.2126"
      ]
     },
     "execution_count": 178,
     "metadata": {},
     "output_type": "execute_result"
    }
   ],
   "source": [
    "#merged_df.set_index('District', inplace=True)\n",
    "#merged_df.set_index('District')\n",
    "\n",
    "#merged_df.reset_index() \n",
    "#merged_df"
   ]
  },
  {
   "cell_type": "code",
   "execution_count": 179,
   "metadata": {},
   "outputs": [
    {
     "data": {
      "image/png": "[encoded data removed]",
      "text/plain": [
       "<Figure size 720x432 with 1 Axes>"
      ]
     },
     "metadata": {
      "needs_background": "light"
     },
     "output_type": "display_data"
    }
   ],
   "source": [
    "merged_df.loc[:, ['District', 'Population']].plot(kind='bar', figsize=(10, 6))\n",
    "plt.title('Population number in each district of Bali')\n",
    "plt.xlabel('District')\n",
    "plt.ylabel('Population')\n",
    "plt.show()"
   ]
  },
  {
   "cell_type": "code",
   "execution_count": 164,
   "metadata": {},
   "outputs": [],
   "source": []
  },
  {
   "cell_type": "code",
   "execution_count": null,
   "metadata": {},
   "outputs": [],
   "source": []
  }
 ],
 "metadata": {
  "kernelspec": {
   "display_name": "Python 3",
   "language": "python",
   "name": "python3"
  },
  "language_info": {
   "codemirror_mode": {
    "name": "ipython",
    "version": 3
   },
   "file_extension": ".py",
   "mimetype": "text/x-python",
   "name": "python",
   "nbconvert_exporter": "python",
   "pygments_lexer": "ipython3",
   "version": "3.7.3"
  }
 },
 "nbformat": 4,
 "nbformat_minor": 4
}
