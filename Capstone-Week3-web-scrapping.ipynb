{
 "cells": [
  {
   "cell_type": "markdown",
   "metadata": {},
   "source": [
    "<h2> Web scrapping using pandas and beautifulsoup </h2>\n",
    "by: <b>Nur Cahyo Nugroho </b>"
   ]
  },
  {
   "cell_type": "markdown",
   "metadata": {},
   "source": [
    "<h4>Import all necessary libraries </h4>"
   ]
  },
  {
   "cell_type": "code",
   "execution_count": 72,
   "metadata": {},
   "outputs": [],
   "source": [
    "import pandas as pd\n",
    "import requests\n",
    "from bs4 import BeautifulSoup"
   ]
  },
  {
   "cell_type": "markdown",
   "metadata": {},
   "source": [
    "<h4> Call BeautifulSoup </h4>"
   ]
  },
  {
   "cell_type": "code",
   "execution_count": null,
   "metadata": {},
   "outputs": [],
   "source": [
    "#request to wiki based on URL\n",
    "res = requests.get(\"https://en.wikipedia.org/wiki/List_of_postal_codes_of_Canada:_M\")\n",
    "\n",
    "#parse to html.parser\n",
    "soup = BeautifulSoup(res.content,'lxml')"
   ]
  },
  {
   "cell_type": "markdown",
   "metadata": {},
   "source": [
    "<h4>Using BeautifulSoup to get HTML content from website for webscrapping</h4>\n",
    "<ul>\n",
    "    <li>get the first table with index [0] to get all record related to postal code </li>\n",
    "    <li>ignore tr</li>\n",
    "    <li>loop the record in tr and td and put all the logics before append the record into list </li>\n",
    "</ul>"
   ]
  },
  {
   "cell_type": "code",
   "execution_count": 73,
   "metadata": {},
   "outputs": [
    {
     "data": {
      "text/plain": [
       "[['M3A', 'North York', 'Parkwoods'],\n",
       " ['M4A', 'North York', 'Victoria Village'],\n",
       " ['M5A', 'Downtown Toronto', 'Harbourfront,Regent Park'],\n",
       " ['M6A', 'North York', 'Lawrence Heights,Lawrence Manor'],\n",
       " ['M7A', \"Queen's Park\", \"Queen's Park\"],\n",
       " ['M9A', 'Etobicoke', 'Islington Avenue'],\n",
       " ['M1B', 'Scarborough', 'Rouge,Malvern'],\n",
       " ['M3B', 'North York', 'Don Mills North'],\n",
       " ['M4B', 'East York', 'Woodbine Gardens,Parkview Hill'],\n",
       " ['M5B', 'Downtown Toronto', 'Ryerson,Garden District'],\n",
       " ['M6B', 'North York', 'Glencairn'],\n",
       " ['M9B',\n",
       "  'Etobicoke',\n",
       "  'Cloverdale,Islington,Martin Grove,Princess Gardens,West Deane Park'],\n",
       " ['M1C', 'Scarborough', 'Highland Creek,Rouge Hill,Port Union'],\n",
       " ['M3C', 'North York', 'Flemingdon Park,Don Mills South'],\n",
       " ['M4C', 'East York', 'Woodbine Heights'],\n",
       " ['M5C', 'Downtown Toronto', 'St. James Town'],\n",
       " ['M6C', 'York', 'Humewood-Cedarvale'],\n",
       " ['M9C',\n",
       "  'Etobicoke',\n",
       "  'Bloordale Gardens,Eringate,Markland Wood,Old Burnhamthorpe'],\n",
       " ['M1E', 'Scarborough', 'Guildwood,Morningside,West Hill'],\n",
       " ['M4E', 'East Toronto', 'The Beaches'],\n",
       " ['M5E', 'Downtown Toronto', 'Berczy Park'],\n",
       " ['M6E', 'York', 'Caledonia-Fairbanks'],\n",
       " ['M1G', 'Scarborough', 'Woburn'],\n",
       " ['M4G', 'East York', 'Leaside'],\n",
       " ['M5G', 'Downtown Toronto', 'Central Bay Street'],\n",
       " ['M6G', 'Downtown Toronto', 'Christie'],\n",
       " ['M1H', 'Scarborough', 'Cedarbrae'],\n",
       " ['M2H', 'North York', 'Hillcrest Village'],\n",
       " ['M3H', 'North York', 'Bathurst Manor,Downsview North,Wilson Heights'],\n",
       " ['M4H', 'East York', 'Thorncliffe Park'],\n",
       " ['M5H', 'Downtown Toronto', 'Adelaide,King,Richmond'],\n",
       " ['M6H', 'West Toronto', 'Dovercourt Village,Dufferin'],\n",
       " ['M1J', 'Scarborough', 'Scarborough Village'],\n",
       " ['M2J', 'North York', 'Fairview,Henry Farm,Oriole'],\n",
       " ['M3J', 'North York', 'Northwood Park,York University'],\n",
       " ['M4J', 'East York', 'East Toronto'],\n",
       " ['M5J',\n",
       "  'Downtown Toronto',\n",
       "  'Harbourfront East,Toronto Islands,Union Station'],\n",
       " ['M6J', 'West Toronto', 'Little Portugal,Trinity'],\n",
       " ['M1K', 'Scarborough', 'East Birchmount Park,Ionview,Kennedy Park'],\n",
       " ['M2K', 'North York', 'Bayview Village'],\n",
       " ['M3K', 'North York', 'CFB Toronto,Downsview East'],\n",
       " ['M4K', 'East Toronto', 'The Danforth West,Riverdale'],\n",
       " ['M5K', 'Downtown Toronto', 'Design Exchange,Toronto Dominion Centre'],\n",
       " ['M6K', 'West Toronto', 'Brockton,Exhibition Place,Parkdale Village'],\n",
       " ['M1L', 'Scarborough', 'Clairlea,Golden Mile,Oakridge'],\n",
       " ['M2L', 'North York', 'Silver Hills,York Mills'],\n",
       " ['M3L', 'North York', 'Downsview West'],\n",
       " ['M4L', 'East Toronto', 'The Beaches West,India Bazaar'],\n",
       " ['M5L', 'Downtown Toronto', 'Commerce Court,Victoria Hotel'],\n",
       " ['M6L', 'North York', 'Downsview,North Park,Upwood Park'],\n",
       " ['M9L', 'North York', 'Humber Summit'],\n",
       " ['M1M', 'Scarborough', 'Cliffcrest,Cliffside,Scarborough Village West'],\n",
       " ['M2M', 'North York', 'Newtonbrook,Willowdale'],\n",
       " ['M3M', 'North York', 'Downsview Central'],\n",
       " ['M4M', 'East Toronto', 'Studio District'],\n",
       " ['M5M', 'North York', 'Bedford Park,Lawrence Manor East'],\n",
       " ['M6M', 'York', 'Del Ray,Keelesdale,Mount Dennis,Silverthorn'],\n",
       " ['M9M', 'North York', 'Emery,Humberlea'],\n",
       " ['M1N', 'Scarborough', 'Birch Cliff,Cliffside West'],\n",
       " ['M2N', 'North York', 'Willowdale South'],\n",
       " ['M3N', 'North York', 'Downsview Northwest'],\n",
       " ['M4N', 'Central Toronto', 'Lawrence Park'],\n",
       " ['M5N', 'Central Toronto', 'Roselawn'],\n",
       " ['M6N', 'York', 'The Junction North,Runnymede'],\n",
       " ['M9N', 'York', 'Weston'],\n",
       " ['M1P', 'Scarborough', 'Dorset Park,Scarborough Town Centre,Wexford Heights'],\n",
       " ['M2P', 'North York', 'York Mills West'],\n",
       " ['M4P', 'Central Toronto', 'Davisville North'],\n",
       " ['M5P', 'Central Toronto', 'Forest Hill North,Forest Hill West'],\n",
       " ['M6P', 'West Toronto', 'High Park,The Junction South'],\n",
       " ['M9P', 'Etobicoke', 'Westmount'],\n",
       " ['M1R', 'Scarborough', 'Maryvale,Wexford'],\n",
       " ['M2R', 'North York', 'Willowdale West'],\n",
       " ['M4R', 'Central Toronto', 'North Toronto West'],\n",
       " ['M5R', 'Central Toronto', 'The Annex,North Midtown,Yorkville'],\n",
       " ['M6R', 'West Toronto', 'Parkdale,Roncesvalles'],\n",
       " ['M7R', 'Mississauga', 'Canada Post Gateway Processing Centre'],\n",
       " ['M9R',\n",
       "  'Etobicoke',\n",
       "  'Kingsview Village,Martin Grove Gardens,Richview Gardens,St. Phillips'],\n",
       " ['M1S', 'Scarborough', 'Agincourt'],\n",
       " ['M4S', 'Central Toronto', 'Davisville'],\n",
       " ['M5S', 'Downtown Toronto', 'Harbord,University of Toronto'],\n",
       " ['M6S', 'West Toronto', 'Runnymede,Swansea'],\n",
       " ['M1T', 'Scarborough', \"Clarks Corners,Sullivan,Tam O'Shanter\"],\n",
       " ['M4T', 'Central Toronto', 'Moore Park,Summerhill East'],\n",
       " ['M5T', 'Downtown Toronto', 'Chinatown,Grange Park,Kensington Market'],\n",
       " ['M1V',\n",
       "  'Scarborough',\n",
       "  \"Agincourt North,L'Amoreaux East,Milliken,Steeles East\"],\n",
       " ['M4V',\n",
       "  'Central Toronto',\n",
       "  'Deer Park,Forest Hill SE,Rathnelly,South Hill,Summerhill West'],\n",
       " ['M5V',\n",
       "  'Downtown Toronto',\n",
       "  'CN Tower,Bathurst Quay,Island airport,Harbourfront West,King and Spadina,Railway Lands,South Niagara'],\n",
       " ['M8V', 'Etobicoke', 'Humber Bay Shores,Mimico South,New Toronto'],\n",
       " ['M9V',\n",
       "  'Etobicoke',\n",
       "  'Albion Gardens,Beaumond Heights,Humbergate,Jamestown,Mount Olive,Silverstone,South Steeles,Thistletown'],\n",
       " ['M1W', 'Scarborough', \"L'Amoreaux West\"],\n",
       " ['M4W', 'Downtown Toronto', 'Rosedale'],\n",
       " ['M5W', 'Downtown Toronto', 'Stn A PO Boxes 25 The Esplanade'],\n",
       " ['M8W', 'Etobicoke', 'Alderwood,Long Branch'],\n",
       " ['M9W', 'Etobicoke', 'Northwest'],\n",
       " ['M1X', 'Scarborough', 'Upper Rouge'],\n",
       " ['M4X', 'Downtown Toronto', 'Cabbagetown,St. James Town'],\n",
       " ['M5X', 'Downtown Toronto', 'First Canadian Place,Underground city'],\n",
       " ['M8X', 'Etobicoke', 'The Kingsway,Montgomery Road,Old Mill North'],\n",
       " ['M4Y', 'Downtown Toronto', 'Church and Wellesley'],\n",
       " ['M7Y', 'East Toronto', 'Business Reply Mail Processing Centre 969 Eastern'],\n",
       " ['M8Y',\n",
       "  'Etobicoke',\n",
       "  \"Humber Bay,King's Mill Park,Kingsway Park South East,Mimico NE,Old Mill South,The Queensway East,Royal York South East,Sunnylea\"],\n",
       " ['M8Z',\n",
       "  'Etobicoke',\n",
       "  'Kingsway Park South West,Mimico NW,The Queensway West,Royal York South West,South of Bloor']]"
      ]
     },
     "execution_count": 73,
     "metadata": {},
     "output_type": "execute_result"
    }
   ],
   "source": [
    "#get the first table in HTML contains all the postal code data, index no 0\n",
    "table = soup.find_all('table')[0] \n",
    "\n",
    "#create empty list\n",
    "postcode_list = []\n",
    "\n",
    "#loop all records in tr\n",
    "for tr in table.find_all('tr'):\n",
    "    #ignore th\n",
    "    if not tr.find_all('th'):\n",
    "        td_val = ''\n",
    "    \n",
    "    #loop all records in td\n",
    "    for td in tr.find_all('td'):\n",
    "        td_val += td.get_text().strip('\\n') + ','\n",
    "      \n",
    "    #identify record with 'Not assigned'\n",
    "    if not td_val.split(',')[1].__contains__('Not assigned'):\n",
    "        rec = td_val.split(',')[0:3]\n",
    "        \n",
    "        #check if it's still empty, for purpose to add first list\n",
    "        if len(postcode_list) == 0:\n",
    "            postcode_list.append(rec)\n",
    "        else:\n",
    "            exist = False\n",
    "            \n",
    "            #compare with existing record, and append the value in 'Neighborhood' if already exist\n",
    "            for existing_rec in postcode_list:\n",
    "                if existing_rec[0] == rec[0] and existing_rec[1] == rec[1]:\n",
    "                    existing_rec[2] += ',' + rec[2]\n",
    "                    exist = True\n",
    "                    break\n",
    "           \n",
    "            #only add if record is not exist\n",
    "            if exist == False:\n",
    "                #check if 'Neighborhood' is not assigned\n",
    "                if (rec[2]).__contains__('Not assigned'):\n",
    "                    rec[2] = rec[1]\n",
    "                postcode_list.append(rec)\n",
    "\n",
    "postcode_list"
   ]
  },
  {
   "cell_type": "markdown",
   "metadata": {},
   "source": [
    "<h4> Create dataframe from the list </h4>"
   ]
  },
  {
   "cell_type": "code",
   "execution_count": 74,
   "metadata": {},
   "outputs": [
    {
     "data": {
      "text/html": [
       "<div>\n",
       "<style scoped>\n",
       "    .dataframe tbody tr th:only-of-type {\n",
       "        vertical-align: middle;\n",
       "    }\n",
       "\n",
       "    .dataframe tbody tr th {\n",
       "        vertical-align: top;\n",
       "    }\n",
       "\n",
       "    .dataframe thead th {\n",
       "        text-align: right;\n",
       "    }\n",
       "</style>\n",
       "<table border=\"1\" class=\"dataframe\">\n",
       "  <thead>\n",
       "    <tr style=\"text-align: right;\">\n",
       "      <th></th>\n",
       "      <th>Postal Code</th>\n",
       "      <th>Borough</th>\n",
       "      <th>Neighborhood</th>\n",
       "    </tr>\n",
       "  </thead>\n",
       "  <tbody>\n",
       "    <tr>\n",
       "      <th>0</th>\n",
       "      <td>M3A</td>\n",
       "      <td>North York</td>\n",
       "      <td>Parkwoods</td>\n",
       "    </tr>\n",
       "    <tr>\n",
       "      <th>1</th>\n",
       "      <td>M4A</td>\n",
       "      <td>North York</td>\n",
       "      <td>Victoria Village</td>\n",
       "    </tr>\n",
       "    <tr>\n",
       "      <th>2</th>\n",
       "      <td>M5A</td>\n",
       "      <td>Downtown Toronto</td>\n",
       "      <td>Harbourfront,Regent Park</td>\n",
       "    </tr>\n",
       "    <tr>\n",
       "      <th>3</th>\n",
       "      <td>M6A</td>\n",
       "      <td>North York</td>\n",
       "      <td>Lawrence Heights,Lawrence Manor</td>\n",
       "    </tr>\n",
       "    <tr>\n",
       "      <th>4</th>\n",
       "      <td>M7A</td>\n",
       "      <td>Queen's Park</td>\n",
       "      <td>Queen's Park</td>\n",
       "    </tr>\n",
       "    <tr>\n",
       "      <th>5</th>\n",
       "      <td>M9A</td>\n",
       "      <td>Etobicoke</td>\n",
       "      <td>Islington Avenue</td>\n",
       "    </tr>\n",
       "    <tr>\n",
       "      <th>6</th>\n",
       "      <td>M1B</td>\n",
       "      <td>Scarborough</td>\n",
       "      <td>Rouge,Malvern</td>\n",
       "    </tr>\n",
       "    <tr>\n",
       "      <th>7</th>\n",
       "      <td>M3B</td>\n",
       "      <td>North York</td>\n",
       "      <td>Don Mills North</td>\n",
       "    </tr>\n",
       "    <tr>\n",
       "      <th>8</th>\n",
       "      <td>M4B</td>\n",
       "      <td>East York</td>\n",
       "      <td>Woodbine Gardens,Parkview Hill</td>\n",
       "    </tr>\n",
       "    <tr>\n",
       "      <th>9</th>\n",
       "      <td>M5B</td>\n",
       "      <td>Downtown Toronto</td>\n",
       "      <td>Ryerson,Garden District</td>\n",
       "    </tr>\n",
       "  </tbody>\n",
       "</table>\n",
       "</div>"
      ],
      "text/plain": [
       "  Postal Code           Borough                     Neighborhood\n",
       "0         M3A        North York                        Parkwoods\n",
       "1         M4A        North York                 Victoria Village\n",
       "2         M5A  Downtown Toronto         Harbourfront,Regent Park\n",
       "3         M6A        North York  Lawrence Heights,Lawrence Manor\n",
       "4         M7A      Queen's Park                     Queen's Park\n",
       "5         M9A         Etobicoke                 Islington Avenue\n",
       "6         M1B       Scarborough                    Rouge,Malvern\n",
       "7         M3B        North York                  Don Mills North\n",
       "8         M4B         East York   Woodbine Gardens,Parkview Hill\n",
       "9         M5B  Downtown Toronto          Ryerson,Garden District"
      ]
     },
     "execution_count": 74,
     "metadata": {},
     "output_type": "execute_result"
    }
   ],
   "source": [
    "column_name = ['Postal Code', 'Borough', 'Neighborhood']\n",
    "canada_postcode_df = pd.DataFrame(postcode_list, columns = column_name)\n",
    "canada_postcode_df.head(10)"
   ]
  },
  {
   "cell_type": "markdown",
   "metadata": {},
   "source": [
    "<h4> Display the shape of dataframe</h34"
   ]
  },
  {
   "cell_type": "code",
   "execution_count": 75,
   "metadata": {},
   "outputs": [
    {
     "data": {
      "text/plain": [
       "(103, 3)"
      ]
     },
     "execution_count": 75,
     "metadata": {},
     "output_type": "execute_result"
    }
   ],
   "source": [
    "canada_postcode_df.shape"
   ]
  },
  {
   "cell_type": "code",
   "execution_count": null,
   "metadata": {},
   "outputs": [],
   "source": []
  }
 ],
 "metadata": {
  "kernelspec": {
   "display_name": "Python 3",
   "language": "python",
   "name": "python3"
  },
  "language_info": {
   "codemirror_mode": {
    "name": "ipython",
    "version": 3
   },
   "file_extension": ".py",
   "mimetype": "text/x-python",
   "name": "python",
   "nbconvert_exporter": "python",
   "pygments_lexer": "ipython3",
   "version": "3.6.7"
  }
 },
 "nbformat": 4,
 "nbformat_minor": 4
}
