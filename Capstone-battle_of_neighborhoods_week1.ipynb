{
 "cells": [
  {
   "cell_type": "markdown",
   "metadata": {},
   "source": [
    "<h2> Capstone project: The Battle of Neighborhoods (week 1) </h2>\n",
    "<h3> Segmentation and Clustering venues in Bali, Indonesia </h3> by: <b>Nur Cahyo Nugroho </b>"
   ]
  },
  {
   "cell_type": "markdown",
   "metadata": {},
   "source": [
    "<img src=\"https://media.timeout.com/images/105240189/image.jpg\" width=\"500\" height=\"600\">"
   ]
  },
  {
   "cell_type": "markdown",
   "metadata": {},
   "source": [
    "<h3>1. Introduction</h3>\n",
    "<p>Bali is one of main Indonesia's tourism destination, which has seen a significant rise in tourists since the 1980s. Tourism-related business makes up 80% of its economy. It is renowned for its highly developed arts, including traditional and modern dance, sculpture, painting, leather, metalworking, and music. There's so much business opportunity in this island, with potential customer from both local residents and the tourists. </p>\n",
    "<p>Business owner will need to perform research and exploration of the neighborhood before open any business in specific location to understand many factors, like nearby residential area, tourist place & office, another similar competitor, public facilities, and most importantly average rental fare.</p>"
   ]
  },
  {
   "cell_type": "markdown",
   "metadata": {},
   "source": [
    "<h3>2. Objective</h3>\n",
    "<p>This project will give insight to restaurant business owner/investor to comparing neighborhoods based on districts in Bali to choose best suited location based on top 10 common venues surrounding it.</p>\n",
    "<p>Methods:\n",
    "<ul>\n",
    "    <li>Web scraping the list of district and population in Bali from Wikipedia.</li>\n",
    "    <li>Extracting top trending venues using Foursquare API. </li>\n",
    "    <li>Forming neighborhood clusters based on venue categories using unsupervised <i>k-means</i> clustering algorithm. </li>\n",
    "    <li>Understanding the similarities and differences between district to retrieve more insights and to conclude which neighborhood is best suited for business prospect. </li>\n",
    "</ul></p>"
   ]
  },
  {
   "cell_type": "markdown",
   "metadata": {},
   "source": [
    "<h3>3. Data Reference and Library</h3>\n",
    "<h4>3.1. District list in Bali</h4>\n",
    "I will be extracting list of districts and population in Bali from Wikipedia page: <a href=\"url\">https://id.wikipedia.org/wiki/Daftar_kabupaten_dan_kota_di_Bali</a>. \n",
    "Using read_html() to extract HTML table information from Wikipedia, and Panda libraries to load it into dataframe and perform necessary data clean-up. \n",
    "<h4>3.2. Geolocation of each district in Bali</h4>\n",
    "Geolocation contains longtitude and latitude of each district in Bali from csv file that I upload in GitHub <a href=\"url\">https://raw.githubusercontent.com/bluearticuno/Coursera_Capstone/master/Bali_Geospatial.csv</a>. Using panda dataframe to load the data and merge it with above district information, then get top venues using Foursquare API using geolocation information.\n",
    "<h4>3.3. Library </h4>\n",
    "<ul>\n",
    "    <li>Panda libraries for dataframe and other dataset manipulation.</li>\n",
    "    <li>Numpy for any scientific computation.</li>\n",
    "    <li>Requests to call Foursquare API.</li>\n",
    "    <li>KMeans cluster from sklearn for clustering.</li>\n",
    "    <li>Matplotlib for plotting modules.</li>\n",
    "    <li>Seaborn for bar graph plotting.</li>\n",
    "    <li>Folium for map plotting.</li>\n",
    "</ul>"
   ]
  },
  {
   "cell_type": "code",
   "execution_count": null,
   "metadata": {},
   "outputs": [],
   "source": []
  }
 ],
 "metadata": {
  "kernelspec": {
   "display_name": "Python 3",
   "language": "python",
   "name": "python3"
  },
  "language_info": {
   "codemirror_mode": {
    "name": "ipython",
    "version": 3
   },
   "file_extension": ".py",
   "mimetype": "text/x-python",
   "name": "python",
   "nbconvert_exporter": "python",
   "pygments_lexer": "ipython3",
   "version": "3.7.3"
  }
 },
 "nbformat": 4,
 "nbformat_minor": 4
}
